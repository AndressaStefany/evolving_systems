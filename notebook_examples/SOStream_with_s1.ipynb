{
  "nbformat": 4,
  "nbformat_minor": 0,
  "metadata": {
    "colab": {
      "name": "SOStream_with_s1.ipynb",
      "provenance": [],
      "collapsed_sections": []
    },
    "kernelspec": {
      "name": "python3",
      "display_name": "Python 3"
    }
  },
  "cells": [
    {
      "cell_type": "markdown",
      "metadata": {
        "id": "dMbu1n-RmNgX",
        "colab_type": "text"
      },
      "source": [
        "# Boot"
      ]
    },
    {
      "cell_type": "code",
      "metadata": {
        "id": "47dgqf9yJ_PN",
        "colab_type": "code",
        "colab": {
          "base_uri": "https://localhost:8080/",
          "height": 214
        },
        "outputId": "718aa06a-6570-478e-c5da-b454977bb2eb"
      },
      "source": [
        "!pip install -U git+https://github.com/AndressaStefany/evolving_systems"
      ],
      "execution_count": 1,
      "outputs": [
        {
          "output_type": "stream",
          "text": [
            "Collecting git+https://github.com/AndressaStefany/evolving_systems\n",
            "  Cloning https://github.com/AndressaStefany/evolving_systems to /tmp/pip-req-build-w10l4cb_\n",
            "  Running command git clone -q https://github.com/AndressaStefany/evolving_systems /tmp/pip-req-build-w10l4cb_\n",
            "Building wheels for collected packages: evolvingsystems\n",
            "  Building wheel for evolvingsystems (setup.py) ... \u001b[?25l\u001b[?25hdone\n",
            "  Created wheel for evolvingsystems: filename=evolvingsystems-0.1-cp36-none-any.whl size=18788 sha256=a70f9d2c3bc7f925b7c88ff00044cfd452a90a18d111e0e7f2dfa828bdde090d\n",
            "  Stored in directory: /tmp/pip-ephem-wheel-cache-vm8f2axw/wheels/e1/8c/20/90c8f2bc1d2adcfff98088c8773e120d9890220001e2cc7962\n",
            "Successfully built evolvingsystems\n",
            "Installing collected packages: evolvingsystems\n",
            "Successfully installed evolvingsystems-0.1\n"
          ],
          "name": "stdout"
        }
      ]
    },
    {
      "cell_type": "code",
      "metadata": {
        "id": "83EzyU3ObarT",
        "colab_type": "code",
        "colab": {}
      },
      "source": [
        "import numpy as np\n",
        "import pandas as pd\n",
        "import matplotlib.pyplot as plt\n",
        "from sklearn import preprocessing\n",
        "from algoritms.sostream.SOStream import SOStream\n",
        "from algoritms.sostream.SOStream_with_feedback import SOStream_feedback\n",
        "from metrics.Metrics import purity, silhouette, adjusted_rand, precision, recall, f1"
      ],
      "execution_count": 3,
      "outputs": []
    },
    {
      "cell_type": "markdown",
      "metadata": {
        "id": "fda3JMzxmQCx",
        "colab_type": "text"
      },
      "source": [
        "# Data"
      ]
    },
    {
      "cell_type": "code",
      "metadata": {
        "id": "H5f9rAwXb87V",
        "colab_type": "code",
        "colab": {
          "base_uri": "https://localhost:8080/",
          "height": 212
        },
        "outputId": "acbde144-1f65-4607-ae65-eb21cd6df865"
      },
      "source": [
        "!wget https://raw.githubusercontent.com/deric/clustering-benchmark/master/src/main/resources/datasets/artificial/s-set1.arff"
      ],
      "execution_count": 4,
      "outputs": [
        {
          "output_type": "stream",
          "text": [
            "--2020-07-11 18:32:00--  https://raw.githubusercontent.com/deric/clustering-benchmark/master/src/main/resources/datasets/artificial/s-set1.arff\n",
            "Resolving raw.githubusercontent.com (raw.githubusercontent.com)... 151.101.0.133, 151.101.64.133, 151.101.128.133, ...\n",
            "Connecting to raw.githubusercontent.com (raw.githubusercontent.com)|151.101.0.133|:443... connected.\n",
            "HTTP request sent, awaiting response... 200 OK\n",
            "Length: 102051 (100K) [text/plain]\n",
            "Saving to: ‘s-set1.arff’\n",
            "\n",
            "\rs-set1.arff           0%[                    ]       0  --.-KB/s               \rs-set1.arff         100%[===================>]  99.66K  --.-KB/s    in 0.04s   \n",
            "\n",
            "2020-07-11 18:32:00 (2.55 MB/s) - ‘s-set1.arff’ saved [102051/102051]\n",
            "\n"
          ],
          "name": "stdout"
        }
      ]
    },
    {
      "cell_type": "code",
      "metadata": {
        "id": "WBIF8pCVmTja",
        "colab_type": "code",
        "colab": {
          "base_uri": "https://localhost:8080/",
          "height": 197
        },
        "outputId": "68502f30-37f3-4661-f263-76b90dc24c96"
      },
      "source": [
        "from scipy.io import arff\n",
        "\n",
        "data = arff.loadarff('s-set1.arff')\n",
        "df = pd.DataFrame(data[0])\n",
        "df.CLASS = df.CLASS.astype(int)\n",
        "\n",
        "df.head()"
      ],
      "execution_count": 5,
      "outputs": [
        {
          "output_type": "execute_result",
          "data": {
            "text/html": [
              "<div>\n",
              "<style scoped>\n",
              "    .dataframe tbody tr th:only-of-type {\n",
              "        vertical-align: middle;\n",
              "    }\n",
              "\n",
              "    .dataframe tbody tr th {\n",
              "        vertical-align: top;\n",
              "    }\n",
              "\n",
              "    .dataframe thead th {\n",
              "        text-align: right;\n",
              "    }\n",
              "</style>\n",
              "<table border=\"1\" class=\"dataframe\">\n",
              "  <thead>\n",
              "    <tr style=\"text-align: right;\">\n",
              "      <th></th>\n",
              "      <th>x</th>\n",
              "      <th>y</th>\n",
              "      <th>CLASS</th>\n",
              "    </tr>\n",
              "  </thead>\n",
              "  <tbody>\n",
              "    <tr>\n",
              "      <th>0</th>\n",
              "      <td>664159.0</td>\n",
              "      <td>550946.0</td>\n",
              "      <td>14</td>\n",
              "    </tr>\n",
              "    <tr>\n",
              "      <th>1</th>\n",
              "      <td>665845.0</td>\n",
              "      <td>557965.0</td>\n",
              "      <td>14</td>\n",
              "    </tr>\n",
              "    <tr>\n",
              "      <th>2</th>\n",
              "      <td>597173.0</td>\n",
              "      <td>575538.0</td>\n",
              "      <td>14</td>\n",
              "    </tr>\n",
              "    <tr>\n",
              "      <th>3</th>\n",
              "      <td>618600.0</td>\n",
              "      <td>551446.0</td>\n",
              "      <td>14</td>\n",
              "    </tr>\n",
              "    <tr>\n",
              "      <th>4</th>\n",
              "      <td>635690.0</td>\n",
              "      <td>608046.0</td>\n",
              "      <td>14</td>\n",
              "    </tr>\n",
              "  </tbody>\n",
              "</table>\n",
              "</div>"
            ],
            "text/plain": [
              "          x         y  CLASS\n",
              "0  664159.0  550946.0     14\n",
              "1  665845.0  557965.0     14\n",
              "2  597173.0  575538.0     14\n",
              "3  618600.0  551446.0     14\n",
              "4  635690.0  608046.0     14"
            ]
          },
          "metadata": {
            "tags": []
          },
          "execution_count": 5
        }
      ]
    },
    {
      "cell_type": "code",
      "metadata": {
        "id": "w9MJ6bAFEeJw",
        "colab_type": "code",
        "colab": {}
      },
      "source": [
        "X = df.drop(['CLASS'],axis=1)\n",
        "y = df['CLASS']"
      ],
      "execution_count": 6,
      "outputs": []
    },
    {
      "cell_type": "markdown",
      "metadata": {
        "id": "T1TRpcRqmZMF",
        "colab_type": "text"
      },
      "source": [
        "# SOStream"
      ]
    },
    {
      "cell_type": "code",
      "metadata": {
        "id": "ZAGgdH9GmfP-",
        "colab_type": "code",
        "colab": {}
      },
      "source": [
        "sostream = SOStream(alpha = 0, min_pts = 3, merge_threshold = 59900)\n",
        "\n",
        "for r in X.values:\n",
        "    sostream.process(r)"
      ],
      "execution_count": 6,
      "outputs": []
    },
    {
      "cell_type": "code",
      "metadata": {
        "id": "IEK92eRlnytu",
        "colab_type": "code",
        "colab": {
          "base_uri": "https://localhost:8080/",
          "height": 290
        },
        "outputId": "71cc8d3c-0f8a-42d1-df82-bad1d3212e1e"
      },
      "source": [
        "s1_centroids = np.array([c.centroid for c in sostream.M[-1]])\n",
        "\n",
        "X.plot.scatter(x=0,y=1)\n",
        "plt.scatter(s1_centroids[:,0], s1_centroids[:,1], color='orange',s=100)\n",
        "\n",
        "plt.show()"
      ],
      "execution_count": 7,
      "outputs": [
        {
          "output_type": "display_data",
          "data": {
            "image/png": "[encoded data removed]",
            "text/plain": [
              "<Figure size 432x288 with 1 Axes>"
            ]
          },
          "metadata": {
            "tags": [],
            "needs_background": "light"
          }
        }
      ]
    },
    {
      "cell_type": "markdown",
      "metadata": {
        "id": "b60gW9JJtNxq",
        "colab_type": "text"
      },
      "source": [
        "# SOStream with feedback"
      ]
    },
    {
      "cell_type": "code",
      "metadata": {
        "id": "KCR5tBb_tP-N",
        "colab_type": "code",
        "colab": {}
      },
      "source": [
        "# standardization\n",
        "# standardized_X = preprocessing.scale(X.values)\n",
        "# minmaxscaler = preprocessing.MinMaxScaler()\n",
        "# minmaxscaler.fit(standardized_X)\n",
        "# X = minmaxscaler.transform(standardized_X)"
      ],
      "execution_count": 8,
      "outputs": []
    },
    {
      "cell_type": "code",
      "metadata": {
        "id": "dHWL6Xuxtiev",
        "colab_type": "code",
        "colab": {
          "base_uri": "https://localhost:8080/",
          "height": 141
        },
        "outputId": "3010af9b-7f1d-4c0b-a075-f191a6914e10"
      },
      "source": [
        "X.values"
      ],
      "execution_count": 9,
      "outputs": [
        {
          "output_type": "execute_result",
          "data": {
            "text/plain": [
              "array([[664159., 550946.],\n",
              "       [665845., 557965.],\n",
              "       [597173., 575538.],\n",
              "       ...,\n",
              "       [650661., 861267.],\n",
              "       [599647., 858702.],\n",
              "       [684091., 842566.]])"
            ]
          },
          "metadata": {
            "tags": []
          },
          "execution_count": 9
        }
      ]
    },
    {
      "cell_type": "code",
      "metadata": {
        "id": "rcOiz-6CthSF",
        "colab_type": "code",
        "colab": {}
      },
      "source": [
        "sostream_f = SOStream_feedback(alpha = 0, min_pts = 3, merge_threshold = 59900)\n",
        "sostream_f.fit_predict(X.values)"
      ],
      "execution_count": 7,
      "outputs": []
    },
    {
      "cell_type": "code",
      "metadata": {
        "id": "YpO24vlGEjC1",
        "colab_type": "code",
        "colab": {}
      },
      "source": [
        "df_y_pred = pd.DataFrame(sostream_f.feedback, columns = ['x', 'y'])\n",
        "df_y_pred['x+y'] = df_y_pred['x'].astype(str)+'_'+df_y_pred['y'].astype(str)\n",
        "\n",
        "# Encoding categorical data\n",
        "from sklearn.preprocessing import LabelEncoder, OneHotEncoder\n",
        "labelencoder_X = LabelEncoder()\n",
        "\n",
        "df_y_pred['CLASS'] = labelencoder_X.fit_transform(df_y_pred.values[:, 2])\n",
        "df_y_pred = df_y_pred.drop(columns=['x+y'])\n",
        "y_pred = df_y_pred['CLASS']"
      ],
      "execution_count": 8,
      "outputs": []
    },
    {
      "cell_type": "code",
      "metadata": {
        "id": "gZDJ6kWLv__f",
        "colab_type": "code",
        "colab": {
          "base_uri": "https://localhost:8080/",
          "height": 52
        },
        "outputId": "290b3ed2-227d-435b-fe7a-a706be08a8f0"
      },
      "source": [
        "print(y_pred.unique())\n",
        "print(y.unique())"
      ],
      "execution_count": 9,
      "outputs": [
        {
          "output_type": "stream",
          "text": [
            "[ 5  8  6 10  2  9  3  1  0  4 11  7]\n",
            "[14 13  3  6  1  5  4 15  8  9  7 12  0 10 11]\n"
          ],
          "name": "stdout"
        }
      ]
    },
    {
      "cell_type": "code",
      "metadata": {
        "id": "gKCro0f_wqMa",
        "colab_type": "code",
        "colab": {}
      },
      "source": [
        "# calculations take into account the class number\n",
        "y_pred_copy = y_pred.copy()\n",
        "y_pred_copy = y_pred_copy.replace(5, 14)\n",
        "y_pred_copy = y_pred_copy.replace(8, 13)\n",
        "y_pred_copy = y_pred_copy.replace(7, 12)\n",
        "y_pred_copy = y_pred_copy.replace(0, 8)\n",
        "y_pred_copy = y_pred_copy.replace(9, 5)\n",
        "y_pred_copy = y_pred_copy.replace(11, 7)\n",
        "y_pred_copy = y_pred_copy.replace(4, 9)\n",
        "y_pred_copy = y_pred_copy.replace(3, 4)\n",
        "y_pred_copy = y_pred_copy.replace(6, 3)\n",
        "y_pred_copy = y_pred_copy.replace(10, 6)\n",
        "y_pred_copy = y_pred_copy.replace(1, 15)\n",
        "y_pred_copy = y_pred_copy.replace(2, 1)"
      ],
      "execution_count": 10,
      "outputs": []
    },
    {
      "cell_type": "code",
      "metadata": {
        "id": "pE8qdvuffYYu",
        "colab_type": "code",
        "colab": {
          "base_uri": "https://localhost:8080/",
          "height": 123
        },
        "outputId": "f74323dd-91b0-40b3-eed0-736e1d71acbb"
      },
      "source": [
        "print(\"Silhouette Coefficient: %10.4f\" % (silhouette(X.values, y_pred)))\n",
        "print(\"Adjusted Rand index: %10.4f\" % (adjusted_rand(y, y_pred)))\n",
        "print(\"Purity: %10.4f\" % (purity(y, y_pred)))\n",
        "print(\"Precision: %10.4f\" % (precision(y, y_pred_copy)))\n",
        "print(\"Recall: %10.4f\" % (recall(y, y_pred_copy)))\n",
        "print(\"F1-Score: %10.4f\" % (f1(y, y_pred_copy)))"
      ],
      "execution_count": 12,
      "outputs": [
        {
          "output_type": "stream",
          "text": [
            "Silhouette Coefficient:     0.5474\n",
            "Adjusted Rand index:     0.7385\n",
            "Purity:     0.7282\n",
            "Precision:     0.1804\n",
            "Recall:     0.1804\n",
            "F1-Score:     0.1804\n"
          ],
          "name": "stdout"
        }
      ]
    }
  ]
}