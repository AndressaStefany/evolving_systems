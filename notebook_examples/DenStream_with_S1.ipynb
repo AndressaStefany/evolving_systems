{
  "nbformat": 4,
  "nbformat_minor": 0,
  "metadata": {
    "colab": {
      "name": "DenStream_with_S1.ipynb",
      "provenance": [],
      "toc_visible": true
    },
    "kernelspec": {
      "name": "python3",
      "display_name": "Python 3"
    }
  },
  "cells": [
    {
      "cell_type": "markdown",
      "metadata": {
        "id": "nuC89BMz8b7v",
        "colab_type": "text"
      },
      "source": [
        "# Boot"
      ]
    },
    {
      "cell_type": "code",
      "metadata": {
        "id": "aEnoPZtJ2esz",
        "colab_type": "code",
        "colab": {
          "base_uri": "https://localhost:8080/",
          "height": 214
        },
        "outputId": "9fda76ec-32e6-416c-8186-a7889c272bea"
      },
      "source": [
        "!pip install -U git+https://github.com/AndressaStefany/evolving_systems"
      ],
      "execution_count": 1,
      "outputs": [
        {
          "output_type": "stream",
          "text": [
            "Collecting git+https://github.com/AndressaStefany/evolving_systems\n",
            "  Cloning https://github.com/AndressaStefany/evolving_systems to /tmp/pip-req-build-3igjddmw\n",
            "  Running command git clone -q https://github.com/AndressaStefany/evolving_systems /tmp/pip-req-build-3igjddmw\n",
            "Building wheels for collected packages: evolvingsystems\n",
            "  Building wheel for evolvingsystems (setup.py) ... \u001b[?25l\u001b[?25hdone\n",
            "  Created wheel for evolvingsystems: filename=evolvingsystems-0.1-cp36-none-any.whl size=5076 sha256=b09e8dea604c6fe9e206e11cfd473fa339527b9308b59148119d7bf18c170677\n",
            "  Stored in directory: /tmp/pip-ephem-wheel-cache-8m5zxhi8/wheels/e1/8c/20/90c8f2bc1d2adcfff98088c8773e120d9890220001e2cc7962\n",
            "Successfully built evolvingsystems\n",
            "Installing collected packages: evolvingsystems\n",
            "Successfully installed evolvingsystems-0.1\n"
          ],
          "name": "stdout"
        }
      ]
    },
    {
      "cell_type": "code",
      "metadata": {
        "id": "RnUjbtw4q1xF",
        "colab_type": "code",
        "colab": {}
      },
      "source": [
        "import numpy as np\n",
        "import pandas as pd\n",
        "from time import time as time\n",
        "from sklearn import preprocessing\n",
        "from algoritms.denstream.DenStream import DenStream\n",
        "from metrics.Metrics import purity, precision, recall, f1"
      ],
      "execution_count": 10,
      "outputs": []
    },
    {
      "cell_type": "markdown",
      "metadata": {
        "id": "5JGCnGkmlZ-X",
        "colab_type": "text"
      },
      "source": [
        "# Data"
      ]
    },
    {
      "cell_type": "code",
      "metadata": {
        "id": "OT64XSNnlbWe",
        "colab_type": "code",
        "colab": {
          "base_uri": "https://localhost:8080/",
          "height": 232
        },
        "outputId": "c26e2a0f-faa6-4613-d179-55346557d0e8"
      },
      "source": [
        "!wget https://raw.githubusercontent.com/deric/clustering-benchmark/master/src/main/resources/datasets/artificial/s-set1.arff"
      ],
      "execution_count": 3,
      "outputs": [
        {
          "output_type": "stream",
          "text": [
            "--2020-07-03 18:26:37--  https://raw.githubusercontent.com/deric/clustering-benchmark/master/src/main/resources/datasets/artificial/s-set1.arff\n",
            "Resolving raw.githubusercontent.com (raw.githubusercontent.com)... 151.101.0.133, 151.101.64.133, 151.101.128.133, ...\n",
            "Connecting to raw.githubusercontent.com (raw.githubusercontent.com)|151.101.0.133|:443... connected.\n",
            "HTTP request sent, awaiting response... 200 OK\n",
            "Length: 102051 (100K) [text/plain]\n",
            "Saving to: ‘s-set1.arff’\n",
            "\n",
            "\rs-set1.arff           0%[                    ]       0  --.-KB/s               \rs-set1.arff         100%[===================>]  99.66K  --.-KB/s    in 0.04s   \n",
            "\n",
            "2020-07-03 18:26:37 (2.70 MB/s) - ‘s-set1.arff’ saved [102051/102051]\n",
            "\n"
          ],
          "name": "stdout"
        }
      ]
    },
    {
      "cell_type": "code",
      "metadata": {
        "id": "X6Y74m3Zqd-w",
        "colab_type": "code",
        "colab": {
          "base_uri": "https://localhost:8080/",
          "height": 197
        },
        "outputId": "d0cfb236-4ba3-4240-e821-d4ee21027f8f"
      },
      "source": [
        "from scipy.io import arff\n",
        "\n",
        "data = arff.loadarff('s-set1.arff')\n",
        "df = pd.DataFrame(data[0])\n",
        "df.CLASS = df.CLASS.astype(int)\n",
        "\n",
        "df.head()"
      ],
      "execution_count": 4,
      "outputs": [
        {
          "output_type": "execute_result",
          "data": {
            "text/html": [
              "<div>\n",
              "<style scoped>\n",
              "    .dataframe tbody tr th:only-of-type {\n",
              "        vertical-align: middle;\n",
              "    }\n",
              "\n",
              "    .dataframe tbody tr th {\n",
              "        vertical-align: top;\n",
              "    }\n",
              "\n",
              "    .dataframe thead th {\n",
              "        text-align: right;\n",
              "    }\n",
              "</style>\n",
              "<table border=\"1\" class=\"dataframe\">\n",
              "  <thead>\n",
              "    <tr style=\"text-align: right;\">\n",
              "      <th></th>\n",
              "      <th>x</th>\n",
              "      <th>y</th>\n",
              "      <th>CLASS</th>\n",
              "    </tr>\n",
              "  </thead>\n",
              "  <tbody>\n",
              "    <tr>\n",
              "      <th>0</th>\n",
              "      <td>664159.0</td>\n",
              "      <td>550946.0</td>\n",
              "      <td>14</td>\n",
              "    </tr>\n",
              "    <tr>\n",
              "      <th>1</th>\n",
              "      <td>665845.0</td>\n",
              "      <td>557965.0</td>\n",
              "      <td>14</td>\n",
              "    </tr>\n",
              "    <tr>\n",
              "      <th>2</th>\n",
              "      <td>597173.0</td>\n",
              "      <td>575538.0</td>\n",
              "      <td>14</td>\n",
              "    </tr>\n",
              "    <tr>\n",
              "      <th>3</th>\n",
              "      <td>618600.0</td>\n",
              "      <td>551446.0</td>\n",
              "      <td>14</td>\n",
              "    </tr>\n",
              "    <tr>\n",
              "      <th>4</th>\n",
              "      <td>635690.0</td>\n",
              "      <td>608046.0</td>\n",
              "      <td>14</td>\n",
              "    </tr>\n",
              "  </tbody>\n",
              "</table>\n",
              "</div>"
            ],
            "text/plain": [
              "          x         y  CLASS\n",
              "0  664159.0  550946.0     14\n",
              "1  665845.0  557965.0     14\n",
              "2  597173.0  575538.0     14\n",
              "3  618600.0  551446.0     14\n",
              "4  635690.0  608046.0     14"
            ]
          },
          "metadata": {
            "tags": []
          },
          "execution_count": 4
        }
      ]
    },
    {
      "cell_type": "markdown",
      "metadata": {
        "id": "IqlFshOFlb1b",
        "colab_type": "text"
      },
      "source": [
        "# DenStream"
      ]
    },
    {
      "cell_type": "code",
      "metadata": {
        "id": "OXSk78jxynRI",
        "colab_type": "code",
        "colab": {}
      },
      "source": [
        "X = df.drop(['CLASS'],axis=1)\n",
        "y = df['CLASS']"
      ],
      "execution_count": 5,
      "outputs": []
    },
    {
      "cell_type": "code",
      "metadata": {
        "id": "uoNBDRP7ldZW",
        "colab_type": "code",
        "colab": {}
      },
      "source": [
        "# standardization\n",
        "standardized_X = preprocessing.scale(X.values)\n",
        "minmaxscaler = preprocessing.MinMaxScaler()\n",
        "minmaxscaler.fit(standardized_X)\n",
        "X = minmaxscaler.transform(standardized_X)"
      ],
      "execution_count": 6,
      "outputs": []
    },
    {
      "cell_type": "code",
      "metadata": {
        "id": "F3CJGSg6zCXE",
        "colab_type": "code",
        "colab": {
          "base_uri": "https://localhost:8080/",
          "height": 87
        },
        "outputId": "01a3c3f3-1f9a-4780-8334-e452ae21b34f"
      },
      "source": [
        "denstream = DenStream(eps=0.3, lambd=0.01, beta=0.9, mu=3)\n",
        "y_pred_den = denstream.fit_predict(X)\n",
        "\n",
        "print(\"Purity: %10.4f\" % (purity(y, y_pred_den)))\n",
        "print(\"Precision: %10.4f\" % (precision(y, y_pred_den)))\n",
        "print(\"Recall: %10.4f\" % (recall(y, y_pred_den)))\n",
        "print(\"F1-Score: %10.4f\" % (f1(y, y_pred_den)))"
      ],
      "execution_count": 11,
      "outputs": [
        {
          "output_type": "stream",
          "text": [
            "Purity:     0.2752\n",
            "Precision:     0.0692\n",
            "Recall:     0.0692\n",
            "F1-Score:     0.0692\n"
          ],
          "name": "stdout"
        }
      ]
    }
  ]
}