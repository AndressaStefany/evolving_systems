{
  "nbformat": 4,
  "nbformat_minor": 0,
  "metadata": {
    "colab": {
      "name": "DenStream_with_S1.ipynb",
      "provenance": [],
      "collapsed_sections": [],
      "toc_visible": true
    },
    "kernelspec": {
      "name": "python3",
      "display_name": "Python 3"
    }
  },
  "cells": [
    {
      "cell_type": "markdown",
      "metadata": {
        "id": "nuC89BMz8b7v",
        "colab_type": "text"
      },
      "source": [
        "# Boot"
      ]
    },
    {
      "cell_type": "code",
      "metadata": {
        "id": "aEnoPZtJ2esz",
        "colab_type": "code",
        "colab": {
          "base_uri": "https://localhost:8080/",
          "height": 214
        },
        "outputId": "4c4fbabf-a7f8-4e5c-d390-a04cf78db5ae"
      },
      "source": [
        "!pip install -U git+https://github.com/AndressaStefany/evolving_systems"
      ],
      "execution_count": 1,
      "outputs": [
        {
          "output_type": "stream",
          "text": [
            "Collecting git+https://github.com/AndressaStefany/evolving_systems\n",
            "  Cloning https://github.com/AndressaStefany/evolving_systems to /tmp/pip-req-build-s2sf3_ed\n",
            "  Running command git clone -q https://github.com/AndressaStefany/evolving_systems /tmp/pip-req-build-s2sf3_ed\n",
            "Building wheels for collected packages: evolvingsystems\n",
            "  Building wheel for evolvingsystems (setup.py) ... \u001b[?25l\u001b[?25hdone\n",
            "  Created wheel for evolvingsystems: filename=evolvingsystems-0.1-cp36-none-any.whl size=18788 sha256=bfee7832ecdeff305be94541540a8c8249adb34c2214595090ece5a17b078ccd\n",
            "  Stored in directory: /tmp/pip-ephem-wheel-cache-v471bzp4/wheels/e1/8c/20/90c8f2bc1d2adcfff98088c8773e120d9890220001e2cc7962\n",
            "Successfully built evolvingsystems\n",
            "Installing collected packages: evolvingsystems\n",
            "Successfully installed evolvingsystems-0.1\n"
          ],
          "name": "stdout"
        }
      ]
    },
    {
      "cell_type": "code",
      "metadata": {
        "id": "RnUjbtw4q1xF",
        "colab_type": "code",
        "colab": {}
      },
      "source": [
        "import numpy as np\n",
        "import pandas as pd\n",
        "from sklearn import preprocessing\n",
        "from algoritms.denstream.DenStream import DenStream\n",
        "from metrics.Metrics import purity, silhouette, adjusted_rand, precision, recall, f1"
      ],
      "execution_count": 2,
      "outputs": []
    },
    {
      "cell_type": "markdown",
      "metadata": {
        "id": "5JGCnGkmlZ-X",
        "colab_type": "text"
      },
      "source": [
        "# Data"
      ]
    },
    {
      "cell_type": "code",
      "metadata": {
        "id": "OT64XSNnlbWe",
        "colab_type": "code",
        "colab": {
          "base_uri": "https://localhost:8080/",
          "height": 232
        },
        "outputId": "db434218-a557-4967-c7e0-a9fa46a76593"
      },
      "source": [
        "!wget https://raw.githubusercontent.com/deric/clustering-benchmark/master/src/main/resources/datasets/artificial/s-set1.arff"
      ],
      "execution_count": 3,
      "outputs": [
        {
          "output_type": "stream",
          "text": [
            "--2020-07-11 18:35:25--  https://raw.githubusercontent.com/deric/clustering-benchmark/master/src/main/resources/datasets/artificial/s-set1.arff\n",
            "Resolving raw.githubusercontent.com (raw.githubusercontent.com)... 151.101.0.133, 151.101.64.133, 151.101.128.133, ...\n",
            "Connecting to raw.githubusercontent.com (raw.githubusercontent.com)|151.101.0.133|:443... connected.\n",
            "HTTP request sent, awaiting response... 200 OK\n",
            "Length: 102051 (100K) [text/plain]\n",
            "Saving to: ‘s-set1.arff’\n",
            "\n",
            "\rs-set1.arff           0%[                    ]       0  --.-KB/s               \rs-set1.arff         100%[===================>]  99.66K  --.-KB/s    in 0.01s   \n",
            "\n",
            "2020-07-11 18:35:25 (7.96 MB/s) - ‘s-set1.arff’ saved [102051/102051]\n",
            "\n"
          ],
          "name": "stdout"
        }
      ]
    },
    {
      "cell_type": "code",
      "metadata": {
        "id": "X6Y74m3Zqd-w",
        "colab_type": "code",
        "colab": {
          "base_uri": "https://localhost:8080/",
          "height": 197
        },
        "outputId": "65aa8482-3556-4df1-c12e-c00f7299ec96"
      },
      "source": [
        "from scipy.io import arff\n",
        "\n",
        "data = arff.loadarff('s-set1.arff')\n",
        "df = pd.DataFrame(data[0])\n",
        "df.CLASS = df.CLASS.astype(int)\n",
        "\n",
        "df.head()"
      ],
      "execution_count": 4,
      "outputs": [
        {
          "output_type": "execute_result",
          "data": {
            "text/html": [
              "<div>\n",
              "<style scoped>\n",
              "    .dataframe tbody tr th:only-of-type {\n",
              "        vertical-align: middle;\n",
              "    }\n",
              "\n",
              "    .dataframe tbody tr th {\n",
              "        vertical-align: top;\n",
              "    }\n",
              "\n",
              "    .dataframe thead th {\n",
              "        text-align: right;\n",
              "    }\n",
              "</style>\n",
              "<table border=\"1\" class=\"dataframe\">\n",
              "  <thead>\n",
              "    <tr style=\"text-align: right;\">\n",
              "      <th></th>\n",
              "      <th>x</th>\n",
              "      <th>y</th>\n",
              "      <th>CLASS</th>\n",
              "    </tr>\n",
              "  </thead>\n",
              "  <tbody>\n",
              "    <tr>\n",
              "      <th>0</th>\n",
              "      <td>664159.0</td>\n",
              "      <td>550946.0</td>\n",
              "      <td>14</td>\n",
              "    </tr>\n",
              "    <tr>\n",
              "      <th>1</th>\n",
              "      <td>665845.0</td>\n",
              "      <td>557965.0</td>\n",
              "      <td>14</td>\n",
              "    </tr>\n",
              "    <tr>\n",
              "      <th>2</th>\n",
              "      <td>597173.0</td>\n",
              "      <td>575538.0</td>\n",
              "      <td>14</td>\n",
              "    </tr>\n",
              "    <tr>\n",
              "      <th>3</th>\n",
              "      <td>618600.0</td>\n",
              "      <td>551446.0</td>\n",
              "      <td>14</td>\n",
              "    </tr>\n",
              "    <tr>\n",
              "      <th>4</th>\n",
              "      <td>635690.0</td>\n",
              "      <td>608046.0</td>\n",
              "      <td>14</td>\n",
              "    </tr>\n",
              "  </tbody>\n",
              "</table>\n",
              "</div>"
            ],
            "text/plain": [
              "          x         y  CLASS\n",
              "0  664159.0  550946.0     14\n",
              "1  665845.0  557965.0     14\n",
              "2  597173.0  575538.0     14\n",
              "3  618600.0  551446.0     14\n",
              "4  635690.0  608046.0     14"
            ]
          },
          "metadata": {
            "tags": []
          },
          "execution_count": 4
        }
      ]
    },
    {
      "cell_type": "markdown",
      "metadata": {
        "id": "IqlFshOFlb1b",
        "colab_type": "text"
      },
      "source": [
        "# DenStream"
      ]
    },
    {
      "cell_type": "code",
      "metadata": {
        "id": "OXSk78jxynRI",
        "colab_type": "code",
        "colab": {}
      },
      "source": [
        "X = df.drop(['CLASS'],axis=1)\n",
        "y = df['CLASS']"
      ],
      "execution_count": 7,
      "outputs": []
    },
    {
      "cell_type": "code",
      "metadata": {
        "id": "uoNBDRP7ldZW",
        "colab_type": "code",
        "colab": {}
      },
      "source": [
        "# standardization\n",
        "standardized_X = preprocessing.scale(X.values)\n",
        "minmaxscaler = preprocessing.MinMaxScaler()\n",
        "minmaxscaler.fit(standardized_X)\n",
        "X = minmaxscaler.transform(standardized_X)"
      ],
      "execution_count": 10,
      "outputs": []
    },
    {
      "cell_type": "code",
      "metadata": {
        "id": "F3CJGSg6zCXE",
        "colab_type": "code",
        "colab": {
          "base_uri": "https://localhost:8080/",
          "height": 123
        },
        "outputId": "75f37e93-840b-4b14-9161-73d1367b89e7"
      },
      "source": [
        "denstream = DenStream(eps=0.3, lambd=0.01, beta=0.9, mu=3)\n",
        "y_pred_den = denstream.fit_predict(X)\n",
        "\n",
        "print(\"Silhouette Coefficient: %10.4f\" % (silhouette(X, y_pred_den)))\n",
        "print(\"Adjusted Rand index: %10.4f\" % (adjusted_rand(y, y_pred_den)))\n",
        "print(\"Purity: %10.4f\" % (purity(y, y_pred_den)))\n",
        "print(\"Precision: %10.4f\" % (precision(y, y_pred_den)))\n",
        "print(\"Recall: %10.4f\" % (recall(y, y_pred_den)))\n",
        "print(\"F1-Score: %10.4f\" % (f1(y, y_pred_den)))"
      ],
      "execution_count": 12,
      "outputs": [
        {
          "output_type": "stream",
          "text": [
            "Silhouette Coefficient:     0.3499\n",
            "Adjusted Rand index:     0.2603\n",
            "Purity:     0.2752\n",
            "Precision:     0.0692\n",
            "Recall:     0.0692\n",
            "F1-Score:     0.0692\n"
          ],
          "name": "stdout"
        }
      ]
    }
  ]
}